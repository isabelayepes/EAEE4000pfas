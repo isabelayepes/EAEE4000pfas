{
 "cells": [
  {
   "cell_type": "code",
   "execution_count": 1,
   "id": "45da20fc-c46b-4394-b1c1-6cb3632f2143",
   "metadata": {},
   "outputs": [],
   "source": [
    "#Packages"
   ]
  },
  {
   "cell_type": "code",
   "execution_count": 2,
   "id": "4955acd5-e9d9-4651-8f17-e76ecc65565d",
   "metadata": {},
   "outputs": [],
   "source": [
    "import numpy as np\n",
    "import pandas as pd #to read dataset\n",
    "#for graphics of best model\n",
    "import matplotlib.pyplot as plt\n",
    "import seaborn as sns\n",
    "#import tensorflow as tf\n",
    "from tensorflow import keras\n",
    "\n",
    "# gradient boosting \n",
    "from xgboost import XGBRegressor\n",
    "\n",
    "# random forest\n",
    "from sklearn.ensemble import RandomForestRegressor\n",
    "\n",
    "# evaluation metrics\n",
    "from sklearn.metrics import mean_squared_error #mean_squared_error(y_true, y_pred)\n",
    "from sklearn.metrics import r2_score #r2_score(y_true, y_pred)\n",
    "\n",
    "#For the decision tree graphic\n",
    "#Need: pip install pydot and pip install graphviz and sudo pip install pydot and pip install graphviz, update nope need to install homebrew then: brew install graphviz\n",
    "import pydot\n",
    "from sklearn import tree\n",
    "from sklearn.tree import DecisionTreeClassifier, export_graphviz\n",
    "\n",
    "#For cluster graphics\n",
    "from sklearn import neighbors, datasets\n",
    "from matplotlib.colors import ListedColormap"
   ]
  },
  {
   "cell_type": "code",
   "execution_count": 3,
   "id": "d2d63b5e-413a-4470-89f0-c8f421a4fa83",
   "metadata": {},
   "outputs": [],
   "source": [
    "#Data & Splitting"
   ]
  },
  {
   "cell_type": "code",
   "execution_count": 4,
   "id": "93251c6c-f181-4046-86f7-df9801583851",
   "metadata": {},
   "outputs": [
    {
     "name": "stdout",
     "output_type": "stream",
     "text": [
      "Index(['FOUND_BY', 'DTXSID', 'PREFERRED_NAME', 'CASRN', 'MOLECULAR_FORMULA',\n",
      "       'MONOISOTOPIC_MASS', 'Number of Carbons', 'Number of Fluorines',\n",
      "       'Contains N', 'Contains O',\n",
      "       'ATMOSPHERIC_HYDROXYLATION_RATE_(AOH)_CM3/MOLECULE*SEC_OPERA_PRED',\n",
      "       'BIOCONCENTRATION_FACTOR_OPERA_PRED',\n",
      "       'BIODEGRADATION_HALF_LIFE_DAYS_DAYS_OPERA_PRED',\n",
      "       'BOILING_POINT_DEGC_OPERA_PRED', 'HENRYS_LAW_ATM-M3/MOLE_OPERA_PRED',\n",
      "       'OPERA_KM_DAYS_OPERA_PRED',\n",
      "       'OCTANOL_AIR_PARTITION_COEFF_LOGKOA_OPERA_PRED',\n",
      "       'SOIL_ADSORPTION_COEFFICIENT_KOC_L/KG_OPERA_PRED',\n",
      "       'OCTANOL_WATER_PARTITION_LOGP_OPERA_PRED',\n",
      "       'MELTING_POINT_DEGC_OPERA_PRED', 'VAPOR_PRESSURE_MMHG_OPERA_PRED',\n",
      "       'WATER_SOLUBILITY_MOL/L_OPERA_PRED', 'Acid Group', 'Hyde Group',\n",
      "       'Carbon Ring Group', 'Alcohol Group', 'Ether Linkage',\n",
      "       'Linear Vs. Branched', 'ide', 'ate', 'ite', 'sodium', 'polymer',\n",
      "       'telomer', 'nitrile', 'Bis', 'Amide', 'Amine', 'Si', 'Sulfur',\n",
      "       'number of missing values'],\n",
      "      dtype='object')\n",
      "(7761, 41)\n",
      "FOUND_BY                                                             object\n",
      "DTXSID                                                               object\n",
      "PREFERRED_NAME                                                       object\n",
      "CASRN                                                                object\n",
      "MOLECULAR_FORMULA                                                    object\n",
      "MONOISOTOPIC_MASS                                                   float64\n",
      "Number of Carbons                                                     int64\n",
      "Number of Fluorines                                                   int64\n",
      "Contains N                                                            int64\n",
      "Contains O                                                            int64\n",
      "ATMOSPHERIC_HYDROXYLATION_RATE_(AOH)_CM3/MOLECULE*SEC_OPERA_PRED    float64\n",
      "BIOCONCENTRATION_FACTOR_OPERA_PRED                                  float64\n",
      "BIODEGRADATION_HALF_LIFE_DAYS_DAYS_OPERA_PRED                       float64\n",
      "BOILING_POINT_DEGC_OPERA_PRED                                       float64\n",
      "HENRYS_LAW_ATM-M3/MOLE_OPERA_PRED                                   float64\n",
      "OPERA_KM_DAYS_OPERA_PRED                                            float64\n",
      "OCTANOL_AIR_PARTITION_COEFF_LOGKOA_OPERA_PRED                       float64\n",
      "SOIL_ADSORPTION_COEFFICIENT_KOC_L/KG_OPERA_PRED                     float64\n",
      "OCTANOL_WATER_PARTITION_LOGP_OPERA_PRED                             float64\n",
      "MELTING_POINT_DEGC_OPERA_PRED                                       float64\n",
      "VAPOR_PRESSURE_MMHG_OPERA_PRED                                      float64\n",
      "WATER_SOLUBILITY_MOL/L_OPERA_PRED                                   float64\n",
      "Acid Group                                                            int64\n",
      "Hyde Group                                                            int64\n",
      "Carbon Ring Group                                                     int64\n",
      "Alcohol Group                                                         int64\n",
      "Ether Linkage                                                         int64\n",
      "Linear Vs. Branched                                                   int64\n",
      "ide                                                                   int64\n",
      "ate                                                                   int64\n",
      "ite                                                                   int64\n",
      "sodium                                                                int64\n",
      "polymer                                                               int64\n",
      "telomer                                                               int64\n",
      "nitrile                                                               int64\n",
      "Bis                                                                   int64\n",
      "Amide                                                                 int64\n",
      "Amine                                                                 int64\n",
      "Si                                                                    int64\n",
      "Sulfur                                                                int64\n",
      "number of missing values                                              int64\n",
      "dtype: object\n"
     ]
    }
   ],
   "source": [
    "#Dataset \n",
    "df = pd.read_csv('12kr2.csv')\n",
    "print(df.columns)\n",
    "print(df.shape)\n",
    "print(df.dtypes)"
   ]
  },
  {
   "cell_type": "code",
   "execution_count": 5,
   "id": "4940f5fd-4eaf-4f52-9a1c-7f4e103a7b5d",
   "metadata": {},
   "outputs": [],
   "source": [
    "#first, separate the full df into 2 by rows assigning some % of the rows to training and some to testing, for example by\n",
    "\n",
    "train = df.sample(frac=0.8, random_state=200)\n",
    "test = df.drop(train.index)\n",
    "\n",
    "#in this way you slice your data horizontally.\n",
    "\n",
    "#then, identify which columns should be in your training data (X) and which in your training labels(Y). Then explicitly select them:\n",
    "\n",
    "X_train = train[['MONOISOTOPIC_MASS', 'Number of Carbons', 'Number of Fluorines',\n",
    "       'Contains N', 'Contains O',\n",
    "       'ATMOSPHERIC_HYDROXYLATION_RATE_(AOH)_CM3/MOLECULE*SEC_OPERA_PRED',\n",
    "       'BIOCONCENTRATION_FACTOR_OPERA_PRED',\n",
    "       'BOILING_POINT_DEGC_OPERA_PRED', 'HENRYS_LAW_ATM-M3/MOLE_OPERA_PRED',\n",
    "       'OPERA_KM_DAYS_OPERA_PRED',\n",
    "       'OCTANOL_AIR_PARTITION_COEFF_LOGKOA_OPERA_PRED',\n",
    "       'SOIL_ADSORPTION_COEFFICIENT_KOC_L/KG_OPERA_PRED',\n",
    "       'OCTANOL_WATER_PARTITION_LOGP_OPERA_PRED',\n",
    "       'MELTING_POINT_DEGC_OPERA_PRED', 'VAPOR_PRESSURE_MMHG_OPERA_PRED',\n",
    "       'WATER_SOLUBILITY_MOL/L_OPERA_PRED', 'Acid Group', 'Hyde Group',\n",
    "       'Carbon Ring Group', 'Alcohol Group', 'Ether Linkage',\n",
    "       'Linear Vs. Branched', 'ide', 'ate', 'ite', 'sodium', 'polymer',\n",
    "       'telomer', 'nitrile', 'Bis', 'Amide', 'Amine', 'Si', 'Sulfur',]].values.astype(float)\n",
    "y_train = train['BIODEGRADATION_HALF_LIFE_DAYS_DAYS_OPERA_PRED'].values.astype(float) \n",
    "\n",
    "#Note that columns should be the same for training and testing, including the order:\n",
    "\n",
    "X_test = test[['MONOISOTOPIC_MASS', 'Number of Carbons', 'Number of Fluorines',\n",
    "       'Contains N', 'Contains O',\n",
    "       'ATMOSPHERIC_HYDROXYLATION_RATE_(AOH)_CM3/MOLECULE*SEC_OPERA_PRED',\n",
    "       'BIOCONCENTRATION_FACTOR_OPERA_PRED',\n",
    "       'BOILING_POINT_DEGC_OPERA_PRED', 'HENRYS_LAW_ATM-M3/MOLE_OPERA_PRED',\n",
    "       'OPERA_KM_DAYS_OPERA_PRED',\n",
    "       'OCTANOL_AIR_PARTITION_COEFF_LOGKOA_OPERA_PRED',\n",
    "       'SOIL_ADSORPTION_COEFFICIENT_KOC_L/KG_OPERA_PRED',\n",
    "       'OCTANOL_WATER_PARTITION_LOGP_OPERA_PRED',\n",
    "       'MELTING_POINT_DEGC_OPERA_PRED', 'VAPOR_PRESSURE_MMHG_OPERA_PRED',\n",
    "       'WATER_SOLUBILITY_MOL/L_OPERA_PRED', 'Acid Group', 'Hyde Group',\n",
    "       'Carbon Ring Group', 'Alcohol Group', 'Ether Linkage',\n",
    "       'Linear Vs. Branched', 'ide', 'ate', 'ite', 'sodium', 'polymer',\n",
    "       'telomer', 'nitrile', 'Bis', 'Amide', 'Amine', 'Si', 'Sulfur',]].values.astype(float)\n",
    "y_test = test['BIODEGRADATION_HALF_LIFE_DAYS_DAYS_OPERA_PRED'].values.astype(float)"
   ]
  },
  {
   "cell_type": "code",
   "execution_count": 6,
   "id": "b492f4a8-5c0a-4f6c-800e-2475079a7b3a",
   "metadata": {},
   "outputs": [],
   "source": [
    "#Function to evaluate RMSE"
   ]
  },
  {
   "cell_type": "code",
   "execution_count": 7,
   "id": "ac06b15a-3d36-4100-a9e6-ebd1480cc3a2",
   "metadata": {},
   "outputs": [],
   "source": [
    "def model_evaluate(y_train, y_test, y_pred, y_pred_train):\n",
    "    metrics = {}\n",
    "    #RMSE Test\n",
    "    rmse_test = np.sqrt(mean_squared_error(y_test, y_pred))\n",
    "    #RMSE Train\n",
    "    rmse_train = np.sqrt(mean_squared_error(y_train, y_pred_train))\n",
    "    #MSE Test\n",
    "    mse_test = mean_squared_error(y_test, y_pred)\n",
    "    #MSE Train\n",
    "    mse_train = mean_squared_error(y_train, y_pred_train)\n",
    "    #R2 Test\n",
    "    r2_test = r2_score(y_test, y_pred)\n",
    "    #R2 Train\n",
    "    r2_train = r2_score(y_train, y_pred_train)\n",
    "\n",
    "    metrics = {\n",
    "              'RMSE Test': rmse_test,\n",
    "              'RMSE Train': rmse_train,\n",
    "              'MSE Test': mse_test,\n",
    "              'MSE Train': mse_train,\n",
    "              'R2 Test': r2_test,\n",
    "              'R2 Train': r2_train}\n",
    "\n",
    "    return metrics "
   ]
  },
  {
   "cell_type": "code",
   "execution_count": 8,
   "id": "c7f85628-d9a2-4d1c-b70b-73c0a425ef38",
   "metadata": {},
   "outputs": [],
   "source": [
    "#Iteration 1: Using the model with default hyperparameters"
   ]
  },
  {
   "cell_type": "code",
   "execution_count": 9,
   "id": "674729e9-25e4-42df-8f82-d6cee8486bdf",
   "metadata": {},
   "outputs": [],
   "source": [
    "#1. import the class/model\n",
    "#from sklearn.ensemble import RandomForestRegressor\n",
    "#2. Instantiate the estimator\n",
    "model = RandomForestRegressor(random_state = 1, n_jobs = -1) \n",
    "#model = XGBRegressor(random_state = 1, n_jobs = -1)\n",
    "#3. Fit the model with data aka model training\n",
    "model.fit(X_train, y_train)\n",
    "\n",
    "#4. Predict the response for a new observation\n",
    "y_pred = model.predict(X_test)\n",
    "\n",
    "\n",
    "y_pred_train = model.predict(X_train)"
   ]
  },
  {
   "cell_type": "code",
   "execution_count": 10,
   "id": "b77954e4-7164-45a5-ad6a-6f1bb5f1d7bf",
   "metadata": {},
   "outputs": [
    {
     "data": {
      "text/plain": [
       "{'RMSE Test': 17.30602532284398,\n",
       " 'RMSE Train': 8.455578863208492,\n",
       " 'MSE Test': 299.4985124749171,\n",
       " 'MSE Train': 71.4968139119382,\n",
       " 'R2 Test': 0.619522536930894,\n",
       " 'R2 Train': 0.9240784982078244}"
      ]
     },
     "execution_count": 10,
     "metadata": {},
     "output_type": "execute_result"
    }
   ],
   "source": [
    "model_evaluate(y_train, y_test, y_pred, y_pred_train)"
   ]
  },
  {
   "cell_type": "code",
   "execution_count": 11,
   "id": "c8b07f5a-1c6a-464f-917f-53a8b352c750",
   "metadata": {},
   "outputs": [
    {
     "data": {
      "image/png": "[encoded data removed]",
      "text/plain": [
       "<Figure size 432x288 with 1 Axes>"
      ]
     },
     "metadata": {
      "needs_background": "light"
     },
     "output_type": "display_data"
    }
   ],
   "source": [
    "test_predictions = model.predict(X_test)\n",
    "\n",
    "plt.scatter(y_test, y_pred)\n",
    "plt.xlabel('True Values [Days]')\n",
    "plt.ylabel('Predictions [Days]')\n",
    "plt.axis('equal')\n",
    "plt.xlim(plt.xlim())\n",
    "plt.ylim(plt.ylim())\n",
    "_ = plt.plot([-100, 100], [-100, 100])"
   ]
  },
  {
   "cell_type": "code",
   "execution_count": 12,
   "id": "3c714db9-0d4c-45cf-9c3d-7efb17d7439a",
   "metadata": {},
   "outputs": [
    {
     "data": {
      "image/png": "[encoded data removed]",
      "text/plain": [
       "<Figure size 432x288 with 1 Axes>"
      ]
     },
     "metadata": {
      "needs_background": "light"
     },
     "output_type": "display_data"
    }
   ],
   "source": [
    "# histogram\n",
    "error = y_pred - y_test\n",
    "plt.hist(error, bins = 50)\n",
    "plt.xlabel(\"Prediction Error [Days]\")\n",
    "_ = plt.ylabel(\"Count\")"
   ]
  },
  {
   "cell_type": "code",
   "execution_count": 13,
   "id": "f03c119c-cca6-4dba-b92a-6402bf614894",
   "metadata": {},
   "outputs": [],
   "source": [
    "def plot_feature_importance(importance, names):\n",
    "    '''\n",
    "    this code is from here: \n",
    "    https://www.analyseup.com/learn-python-for-data-science/python-random-forest-feature-importance-plot.html\n",
    "    '''\n",
    "    #Create arrays from feature importance and feature names\n",
    "    feature_importance = np.array(importance)\n",
    "    feature_names = np.array(names)\n",
    "\n",
    "    #Create a DataFrame using a Dictionary\n",
    "    data={'feature_names':feature_names,'feature_importance':feature_importance}\n",
    "    fi_df = pd.DataFrame(data)\n",
    "\n",
    "    #Sort the DataFrame in order decreasing feature importance\n",
    "    fi_df.sort_values(by=['feature_importance'], ascending=False,inplace=True)\n",
    "\n",
    "    #Define size of bar plot\n",
    "    plt.figure(figsize=(10,8))\n",
    "    #Plot Searborn bar chart\n",
    "    sns.barplot(x=fi_df['feature_importance'], y=fi_df['feature_names'])\n",
    "    #Add chart labels\n",
    "    plt.title('FEATURE IMPORTANCE')\n",
    "    plt.xlabel('FEATURE IMPORTANCE')\n",
    "    plt.ylabel('FEATURE NAMES')"
   ]
  },
  {
   "cell_type": "code",
   "execution_count": 14,
   "id": "7e44c2f6-4a82-41b2-bec7-29e06055c7e9",
   "metadata": {},
   "outputs": [],
   "source": [
    "dfxTrain=pd.DataFrame(X_train, columns=['MONOISOTOPIC_MASS', 'Number of Carbons', 'Number of Fluorines',\n",
    "       'Contains N', 'Contains O',\n",
    "       'ATMOSPHERIC_HYDROXYLATION_RATE_(AOH)_CM3/MOLECULE*SEC_OPERA_PRED',\n",
    "       'BIOCONCENTRATION_FACTOR_OPERA_PRED',\n",
    "       'BOILING_POINT_DEGC_OPERA_PRED', 'HENRYS_LAW_ATM-M3/MOLE_OPERA_PRED',\n",
    "       'OPERA_KM_DAYS_OPERA_PRED',\n",
    "       'OCTANOL_AIR_PARTITION_COEFF_LOGKOA_OPERA_PRED',\n",
    "       'SOIL_ADSORPTION_COEFFICIENT_KOC_L/KG_OPERA_PRED',\n",
    "       'OCTANOL_WATER_PARTITION_LOGP_OPERA_PRED',\n",
    "       'MELTING_POINT_DEGC_OPERA_PRED', 'VAPOR_PRESSURE_MMHG_OPERA_PRED',\n",
    "       'WATER_SOLUBILITY_MOL/L_OPERA_PRED', 'Acid Group', 'Hyde Group',\n",
    "       'Carbon Ring Group', 'Alcohol Group', 'Ether Linkage',\n",
    "       'Linear Vs. Branched', 'ide', 'ate', 'ite', 'sodium', 'polymer',\n",
    "       'telomer', 'nitrile', 'Bis', 'Amide', 'Amine', 'Si', 'Sulfut',])\n"
   ]
  },
  {
   "cell_type": "code",
   "execution_count": 15,
   "id": "407769f3-2b0f-4a6c-98cb-897dbb4bac64",
   "metadata": {},
   "outputs": [
    {
     "data": {
      "image/png": "[encoded data removed]",
      "text/plain": [
       "<Figure size 720x576 with 1 Axes>"
      ]
     },
     "metadata": {
      "needs_background": "light"
     },
     "output_type": "display_data"
    }
   ],
   "source": [
    "plot_feature_importance(model.feature_importances_, dfxTrain.columns)"
   ]
  },
  {
   "cell_type": "code",
   "execution_count": 16,
   "id": "2c30bf80-4260-4e01-8a73-0bd12d6d21ed",
   "metadata": {},
   "outputs": [
    {
     "name": "stdout",
     "output_type": "stream",
     "text": [
      "Variable: OCTANOL_WATER_PARTITION_LOGP_OPERA_PRED Importance: 0.14\n",
      "Variable: Si                   Importance: 0.13\n",
      "Variable: Number of Carbons    Importance: 0.12\n",
      "Variable: BIOCONCENTRATION_FACTOR_OPERA_PRED Importance: 0.12\n",
      "Variable: OCTANOL_AIR_PARTITION_COEFF_LOGKOA_OPERA_PRED Importance: 0.09\n",
      "Variable: BOILING_POINT_DEGC_OPERA_PRED Importance: 0.06\n",
      "Variable: MELTING_POINT_DEGC_OPERA_PRED Importance: 0.05\n",
      "Variable: MONOISOTOPIC_MASS    Importance: 0.04\n",
      "Variable: OPERA_KM_DAYS_OPERA_PRED Importance: 0.04\n",
      "Variable: Number of Fluorines  Importance: 0.03\n",
      "Variable: HENRYS_LAW_ATM-M3/MOLE_OPERA_PRED Importance: 0.03\n",
      "Variable: SOIL_ADSORPTION_COEFFICIENT_KOC_L/KG_OPERA_PRED Importance: 0.03\n",
      "Variable: WATER_SOLUBILITY_MOL/L_OPERA_PRED Importance: 0.03\n",
      "Variable: VAPOR_PRESSURE_MMHG_OPERA_PRED Importance: 0.02\n",
      "Variable: Carbon Ring Group    Importance: 0.02\n",
      "Variable: Contains N           Importance: 0.01\n",
      "Variable: Contains O           Importance: 0.01\n",
      "Variable: Acid Group           Importance: 0.01\n",
      "Variable: Linear Vs. Branched  Importance: 0.01\n",
      "Variable: ATMOSPHERIC_HYDROXYLATION_RATE_(AOH)_CM3/MOLECULE*SEC_OPERA_PRED Importance: 0.0\n",
      "Variable: Hyde Group           Importance: 0.0\n",
      "Variable: Alcohol Group        Importance: 0.0\n",
      "Variable: Ether Linkage        Importance: 0.0\n",
      "Variable: ide                  Importance: 0.0\n",
      "Variable: ate                  Importance: 0.0\n",
      "Variable: ite                  Importance: 0.0\n",
      "Variable: sodium               Importance: 0.0\n",
      "Variable: polymer              Importance: 0.0\n",
      "Variable: telomer              Importance: 0.0\n",
      "Variable: nitrile              Importance: 0.0\n",
      "Variable: Bis                  Importance: 0.0\n",
      "Variable: Amide                Importance: 0.0\n",
      "Variable: Amine                Importance: 0.0\n",
      "Variable: Sulfut               Importance: 0.0\n"
     ]
    }
   ],
   "source": [
    "#Extract List of features from data frame.\n",
    "feature_list = list(dfxTrain.columns)\n",
    "# Get numerical feature importances\n",
    "importances = list(model.feature_importances_)\n",
    "# List of tuples with variable and importance\n",
    "feature_importances = [(feature, round(importance, 2)) for feature, importance in zip(feature_list, importances)]\n",
    "# Sort the feature importances by most important first\n",
    "feature_importances = sorted(feature_importances, key = lambda x: x[1], reverse = True)\n",
    "# Print out the feature and importances \n",
    "[print('Variable: {:20} Importance: {}'.format(*pair)) for pair in feature_importances];"
   ]
  },
  {
   "cell_type": "code",
   "execution_count": 17,
   "id": "a6f7fa5d-8100-417c-95dd-718da1097079",
   "metadata": {},
   "outputs": [],
   "source": [
    "#Iteration 2: I used RandomizedSearchCV to get optimum values of hyper-parameters"
   ]
  },
  {
   "cell_type": "code",
   "execution_count": 18,
   "id": "7874c62d-74d5-438d-b41c-82ebf80d767d",
   "metadata": {},
   "outputs": [
    {
     "data": {
      "text/plain": [
       "RandomizedSearchCV(cv=10,\n",
       "                   estimator=RandomForestRegressor(n_jobs=-1, random_state=1),\n",
       "                   n_iter=50, n_jobs=-1,\n",
       "                   param_distributions={'max_depth': [1, 2, 3, 4, 5, 6, 7, 8, 9,\n",
       "                                                      10, 11, 12, 13, 14, 15,\n",
       "                                                      16, 17, 18, 19],\n",
       "                                        'max_features': ['auto', 'sqrt',\n",
       "                                                         'log2'],\n",
       "                                        'min_samples_split': array([0.1, 0.2, 0.3, 0.4, 0.5, 0.6, 0.7, 0.8, 0.9, 1. ])})"
      ]
     },
     "execution_count": 18,
     "metadata": {},
     "output_type": "execute_result"
    }
   ],
   "source": [
    "#from sklearn.ensemble import RandomForestRegressor\n",
    "model = RandomForestRegressor(n_estimators = 100, random_state = 1, n_jobs = -1) \n",
    "\n",
    "param_grid = { \n",
    "    'max_features' : [\"auto\", \"sqrt\", \"log2\"],\n",
    "    'min_samples_split' : np.linspace(0.1, 1.0, 10),\n",
    "     'max_depth' : [x for x in range(1,20)]\n",
    "}\n",
    "from sklearn.model_selection import RandomizedSearchCV\n",
    "CV_rfc = RandomizedSearchCV(estimator=model, param_distributions =param_grid, n_jobs = -1, cv= 10, n_iter = 50)\n",
    "CV_rfc.fit(X_train, y_train)"
   ]
  },
  {
   "cell_type": "code",
   "execution_count": 19,
   "id": "ae89e8a7-c147-4ac9-9b8b-79009a99c276",
   "metadata": {},
   "outputs": [
    {
     "name": "stdout",
     "output_type": "stream",
     "text": [
      "{'min_samples_split': 0.6, 'max_features': 'auto', 'max_depth': 6}\n"
     ]
    },
    {
     "data": {
      "text/plain": [
       "0.18779886246048932"
      ]
     },
     "execution_count": 19,
     "metadata": {},
     "output_type": "execute_result"
    }
   ],
   "source": [
    "print(CV_rfc.best_params_)\n",
    "CV_rfc.best_score_"
   ]
  },
  {
   "cell_type": "code",
   "execution_count": 24,
   "id": "4522ab7b-3222-431b-b3fe-74cd6e8e9414",
   "metadata": {},
   "outputs": [],
   "source": [
    "#1. import the class/model\n",
    "from sklearn.ensemble import RandomForestRegressor\n",
    "#2. Instantiate the estimator\n",
    "model = RandomForestRegressor(n_estimators = 100, random_state = 1, n_jobs = -1, min_samples_split = 0.6, max_features = 'auto', max_depth = 6) \n",
    "#3. Fit the model with data aka model training\n",
    "model.fit(X_train, y_train)\n",
    "\n",
    "#4. Predict the response for a new observation\n",
    "y_pred = model.predict(X_test)\n",
    "\n",
    "\n",
    "y_pred_train = model.predict(X_train)\n"
   ]
  },
  {
   "cell_type": "code",
   "execution_count": 25,
   "id": "ee738be7-87eb-4124-94c8-5ace5b6a4e85",
   "metadata": {},
   "outputs": [
    {
     "data": {
      "text/plain": [
       "{'RMSE Test': 22.557562945590526,\n",
       " 'RMSE Train': 27.2249625192318,\n",
       " 'MSE Test': 508.84364604427867,\n",
       " 'MSE Train': 741.1985841735763,\n",
       " 'R2 Test': 0.3535742867438264,\n",
       " 'R2 Train': 0.21293122647391094}"
      ]
     },
     "execution_count": 25,
     "metadata": {},
     "output_type": "execute_result"
    }
   ],
   "source": [
    "model_evaluate(y_train, y_test, y_pred, y_pred_train)"
   ]
  },
  {
   "cell_type": "code",
   "execution_count": 26,
   "id": "90d902ca-daac-418d-b2a9-46a57e1af5d6",
   "metadata": {},
   "outputs": [],
   "source": [
    "#Iteration 3: I use GridSearchCV to get optimum values of hyper-parameters"
   ]
  },
  {
   "cell_type": "code",
   "execution_count": 27,
   "id": "0b9a5bbf-db01-4e29-a257-0238bca6e944",
   "metadata": {},
   "outputs": [
    {
     "data": {
      "text/plain": [
       "GridSearchCV(cv=10, estimator=RandomForestRegressor(n_jobs=-1, random_state=1),\n",
       "             n_jobs=-1,\n",
       "             param_grid={'max_depth': [1, 2, 3, 4, 5, 6, 7, 8, 9, 10, 11, 12,\n",
       "                                       13, 14, 15, 16, 17, 18, 19],\n",
       "                         'max_features': ['auto', 'sqrt', 'log2'],\n",
       "                         'min_samples_split': array([0.1, 0.2, 0.3, 0.4, 0.5, 0.6, 0.7, 0.8, 0.9, 1. ])})"
      ]
     },
     "execution_count": 27,
     "metadata": {},
     "output_type": "execute_result"
    }
   ],
   "source": [
    "#from sklearn.ensemble import RandomForestRegressor\n",
    "model = RandomForestRegressor(n_estimators = 100, random_state = 1, n_jobs = -1) \n",
    "\n",
    "param_grid = { \n",
    "    'max_features' : [\"auto\", \"sqrt\", \"log2\"],\n",
    "    'min_samples_split' : np.linspace(0.1, 1.0, 10),\n",
    "    'max_depth' : [x for x in range(1,20)]\n",
    "\n",
    "}\n",
    "\n",
    "from sklearn.model_selection import GridSearchCV\n",
    "CV_rfc = GridSearchCV(estimator=model, param_grid=param_grid, cv= 10, n_jobs = -1)\n",
    "CV_rfc.fit(X_train, y_train)"
   ]
  },
  {
   "cell_type": "code",
   "execution_count": 28,
   "id": "8fa001d6-d1fc-4d57-8efa-b6937ced9577",
   "metadata": {},
   "outputs": [
    {
     "name": "stdout",
     "output_type": "stream",
     "text": [
      "{'max_depth': 13, 'max_features': 'auto', 'min_samples_split': 0.6}\n"
     ]
    },
    {
     "data": {
      "text/plain": [
       "0.18781109537210833"
      ]
     },
     "execution_count": 28,
     "metadata": {},
     "output_type": "execute_result"
    }
   ],
   "source": [
    "print(CV_rfc.best_params_)\n",
    "CV_rfc.best_score_"
   ]
  },
  {
   "cell_type": "code",
   "execution_count": 29,
   "id": "f549ea45-5342-4452-bd1c-010916bbc55e",
   "metadata": {},
   "outputs": [],
   "source": [
    "#1. import the class/model\n",
    "from sklearn.ensemble import RandomForestRegressor\n",
    "#2. Instantiate the estimator\n",
    "model = RandomForestRegressor(n_estimators = 100, random_state = 1, n_jobs = -1, min_samples_split = 0.6, max_features = 'auto', max_depth = 13) \n",
    "#3. Fit the model with data aka model training\n",
    "model.fit(X_train, y_train)\n",
    "\n",
    "#4. Predict the response for a new observation\n",
    "y_pred = model.predict(X_test)\n",
    "\n",
    "\n",
    "y_pred_train = model.predict(X_train)"
   ]
  },
  {
   "cell_type": "code",
   "execution_count": 30,
   "id": "a9e9a730-0923-4df5-8211-12471856b6a3",
   "metadata": {
    "tags": []
   },
   "outputs": [
    {
     "data": {
      "text/plain": [
       "{'RMSE Test': 22.557562945590526,\n",
       " 'RMSE Train': 27.2249625192318,\n",
       " 'MSE Test': 508.84364604427867,\n",
       " 'MSE Train': 741.1985841735763,\n",
       " 'R2 Test': 0.3535742867438264,\n",
       " 'R2 Train': 0.21293122647391094}"
      ]
     },
     "execution_count": 30,
     "metadata": {},
     "output_type": "execute_result"
    }
   ],
   "source": [
    "model_evaluate(y_train, y_test, y_pred, y_pred_train)"
   ]
  },
  {
   "cell_type": "code",
   "execution_count": 31,
   "id": "7f95ce14-fc12-40a9-8560-3ee232c6588e",
   "metadata": {},
   "outputs": [
    {
     "data": {
      "text/plain": [
       "2    0.408468\n",
       "1    0.331660\n",
       "0    0.259872\n",
       "Name: BIODEGRADATION_HALF_LIFE_DAYS_DAYS_CATEGORIES, dtype: float64"
      ]
     },
     "execution_count": 31,
     "metadata": {},
     "output_type": "execute_result"
    }
   ],
   "source": [
    "#if running again this clears old column\n",
    "if 'BIODEGRADATION_HALF_LIFE_DAYS_DAYS_CATEGORIES' in df.columns:\n",
    "    df= df.drop(labels='BIODEGRADATION_HALF_LIFE_DAYS_DAYS_CATEGORIES', axis=1)\n",
    "#add a new column to df for halflife category low (between 0 and 3.9), medium (greater than 3.9 up to 4.5), high (greater than 4.5 up to 9). \n",
    "category = pd.cut(df['BIODEGRADATION_HALF_LIFE_DAYS_DAYS_OPERA_PRED'],bins=[0,3.9,4.5,9],labels=[0,1,2])\n",
    "df.insert(5,'BIODEGRADATION_HALF_LIFE_DAYS_DAYS_CATEGORIES',category)\n",
    "#df['BIODEGRADATION_HALF_LIFE_DAYS_DAYS_BINARY'] = np.where(df['BIODEGRADATION_HALF_LIFE_DAYS_DAYS_OPERA_PRED']>4.5, 1, 0)\n",
    "y= df['BIODEGRADATION_HALF_LIFE_DAYS_DAYS_CATEGORIES']\n",
    "#print(y)\n",
    "#Analyzes category distribution\n",
    "df['BIODEGRADATION_HALF_LIFE_DAYS_DAYS_CATEGORIES'].value_counts(normalize=True)"
   ]
  },
  {
   "cell_type": "code",
   "execution_count": 32,
   "id": "9f2331d8-5b41-4efb-843d-5911bb9248c2",
   "metadata": {},
   "outputs": [
    {
     "ename": "ValueError",
     "evalue": "Input contains NaN, infinity or a value too large for dtype('float64').",
     "output_type": "error",
     "traceback": [
      "\u001b[0;31m---------------------------------------------------------------------------\u001b[0m",
      "\u001b[0;31mValueError\u001b[0m                                Traceback (most recent call last)",
      "\u001b[0;32m/var/folders/jv/lz3tf5xn1vdbnrsqnz5bfz0r0000gn/T/ipykernel_3671/2382726956.py\u001b[0m in \u001b[0;36m<module>\u001b[0;34m\u001b[0m\n\u001b[1;32m     10\u001b[0m     \u001b[0;31m# Create an instance of Neighbours Classifier and fit the data.\u001b[0m\u001b[0;34m\u001b[0m\u001b[0;34m\u001b[0m\u001b[0;34m\u001b[0m\u001b[0m\n\u001b[1;32m     11\u001b[0m     \u001b[0mclf\u001b[0m \u001b[0;34m=\u001b[0m \u001b[0mneighbors\u001b[0m\u001b[0;34m.\u001b[0m\u001b[0mKNeighborsClassifier\u001b[0m\u001b[0;34m(\u001b[0m\u001b[0mn_neighbors\u001b[0m\u001b[0;34m=\u001b[0m\u001b[0;36m15\u001b[0m\u001b[0;34m,\u001b[0m \u001b[0mweights\u001b[0m\u001b[0;34m=\u001b[0m\u001b[0;34m'uniform'\u001b[0m\u001b[0;34m)\u001b[0m\u001b[0;34m\u001b[0m\u001b[0;34m\u001b[0m\u001b[0m\n\u001b[0;32m---> 12\u001b[0;31m     \u001b[0mclf\u001b[0m\u001b[0;34m.\u001b[0m\u001b[0mfit\u001b[0m\u001b[0;34m(\u001b[0m\u001b[0mx\u001b[0m\u001b[0;34m,\u001b[0m \u001b[0my\u001b[0m\u001b[0;34m)\u001b[0m\u001b[0;34m;\u001b[0m\u001b[0;34m\u001b[0m\u001b[0;34m\u001b[0m\u001b[0m\n\u001b[0m\u001b[1;32m     13\u001b[0m     \u001b[0;31m# Plot the decision boundary\u001b[0m\u001b[0;34m\u001b[0m\u001b[0;34m\u001b[0m\u001b[0;34m\u001b[0m\u001b[0m\n\u001b[1;32m     14\u001b[0m     xx, yy = np.meshgrid(np.arange(x.iloc[:, 0].min(), x.iloc[:, 0].max()+0.2, 0.2),\n",
      "\u001b[0;32m~/opt/anaconda3/envs/keras/lib/python3.7/site-packages/sklearn/neighbors/_classification.py\u001b[0m in \u001b[0;36mfit\u001b[0;34m(self, X, y)\u001b[0m\n\u001b[1;32m    177\u001b[0m             \u001b[0mThe\u001b[0m \u001b[0mfitted\u001b[0m \u001b[0mk\u001b[0m\u001b[0;34m-\u001b[0m\u001b[0mnearest\u001b[0m \u001b[0mneighbors\u001b[0m \u001b[0mclassifier\u001b[0m\u001b[0;34m.\u001b[0m\u001b[0;34m\u001b[0m\u001b[0;34m\u001b[0m\u001b[0m\n\u001b[1;32m    178\u001b[0m         \"\"\"\n\u001b[0;32m--> 179\u001b[0;31m         \u001b[0;32mreturn\u001b[0m \u001b[0mself\u001b[0m\u001b[0;34m.\u001b[0m\u001b[0m_fit\u001b[0m\u001b[0;34m(\u001b[0m\u001b[0mX\u001b[0m\u001b[0;34m,\u001b[0m \u001b[0my\u001b[0m\u001b[0;34m)\u001b[0m\u001b[0;34m\u001b[0m\u001b[0;34m\u001b[0m\u001b[0m\n\u001b[0m\u001b[1;32m    180\u001b[0m \u001b[0;34m\u001b[0m\u001b[0m\n\u001b[1;32m    181\u001b[0m     \u001b[0;32mdef\u001b[0m \u001b[0mpredict\u001b[0m\u001b[0;34m(\u001b[0m\u001b[0mself\u001b[0m\u001b[0;34m,\u001b[0m \u001b[0mX\u001b[0m\u001b[0;34m)\u001b[0m\u001b[0;34m:\u001b[0m\u001b[0;34m\u001b[0m\u001b[0;34m\u001b[0m\u001b[0m\n",
      "\u001b[0;32m~/opt/anaconda3/envs/keras/lib/python3.7/site-packages/sklearn/neighbors/_base.py\u001b[0m in \u001b[0;36m_fit\u001b[0;34m(self, X, y)\u001b[0m\n\u001b[1;32m    362\u001b[0m             \u001b[0;32mif\u001b[0m \u001b[0;32mnot\u001b[0m \u001b[0misinstance\u001b[0m\u001b[0;34m(\u001b[0m\u001b[0mX\u001b[0m\u001b[0;34m,\u001b[0m \u001b[0;34m(\u001b[0m\u001b[0mKDTree\u001b[0m\u001b[0;34m,\u001b[0m \u001b[0mBallTree\u001b[0m\u001b[0;34m,\u001b[0m \u001b[0mNeighborsBase\u001b[0m\u001b[0;34m)\u001b[0m\u001b[0;34m)\u001b[0m\u001b[0;34m:\u001b[0m\u001b[0;34m\u001b[0m\u001b[0;34m\u001b[0m\u001b[0m\n\u001b[1;32m    363\u001b[0m                 X, y = self._validate_data(X, y, accept_sparse=\"csr\",\n\u001b[0;32m--> 364\u001b[0;31m                                            multi_output=True)\n\u001b[0m\u001b[1;32m    365\u001b[0m \u001b[0;34m\u001b[0m\u001b[0m\n\u001b[1;32m    366\u001b[0m             \u001b[0;32mif\u001b[0m \u001b[0mis_classifier\u001b[0m\u001b[0;34m(\u001b[0m\u001b[0mself\u001b[0m\u001b[0;34m)\u001b[0m\u001b[0;34m:\u001b[0m\u001b[0;34m\u001b[0m\u001b[0;34m\u001b[0m\u001b[0m\n",
      "\u001b[0;32m~/opt/anaconda3/envs/keras/lib/python3.7/site-packages/sklearn/base.py\u001b[0m in \u001b[0;36m_validate_data\u001b[0;34m(self, X, y, reset, validate_separately, **check_params)\u001b[0m\n\u001b[1;32m    431\u001b[0m                 \u001b[0my\u001b[0m \u001b[0;34m=\u001b[0m \u001b[0mcheck_array\u001b[0m\u001b[0;34m(\u001b[0m\u001b[0my\u001b[0m\u001b[0;34m,\u001b[0m \u001b[0;34m**\u001b[0m\u001b[0mcheck_y_params\u001b[0m\u001b[0;34m)\u001b[0m\u001b[0;34m\u001b[0m\u001b[0;34m\u001b[0m\u001b[0m\n\u001b[1;32m    432\u001b[0m             \u001b[0;32melse\u001b[0m\u001b[0;34m:\u001b[0m\u001b[0;34m\u001b[0m\u001b[0;34m\u001b[0m\u001b[0m\n\u001b[0;32m--> 433\u001b[0;31m                 \u001b[0mX\u001b[0m\u001b[0;34m,\u001b[0m \u001b[0my\u001b[0m \u001b[0;34m=\u001b[0m \u001b[0mcheck_X_y\u001b[0m\u001b[0;34m(\u001b[0m\u001b[0mX\u001b[0m\u001b[0;34m,\u001b[0m \u001b[0my\u001b[0m\u001b[0;34m,\u001b[0m \u001b[0;34m**\u001b[0m\u001b[0mcheck_params\u001b[0m\u001b[0;34m)\u001b[0m\u001b[0;34m\u001b[0m\u001b[0;34m\u001b[0m\u001b[0m\n\u001b[0m\u001b[1;32m    434\u001b[0m             \u001b[0mout\u001b[0m \u001b[0;34m=\u001b[0m \u001b[0mX\u001b[0m\u001b[0;34m,\u001b[0m \u001b[0my\u001b[0m\u001b[0;34m\u001b[0m\u001b[0;34m\u001b[0m\u001b[0m\n\u001b[1;32m    435\u001b[0m \u001b[0;34m\u001b[0m\u001b[0m\n",
      "\u001b[0;32m~/opt/anaconda3/envs/keras/lib/python3.7/site-packages/sklearn/utils/validation.py\u001b[0m in \u001b[0;36minner_f\u001b[0;34m(*args, **kwargs)\u001b[0m\n\u001b[1;32m     61\u001b[0m             \u001b[0mextra_args\u001b[0m \u001b[0;34m=\u001b[0m \u001b[0mlen\u001b[0m\u001b[0;34m(\u001b[0m\u001b[0margs\u001b[0m\u001b[0;34m)\u001b[0m \u001b[0;34m-\u001b[0m \u001b[0mlen\u001b[0m\u001b[0;34m(\u001b[0m\u001b[0mall_args\u001b[0m\u001b[0;34m)\u001b[0m\u001b[0;34m\u001b[0m\u001b[0;34m\u001b[0m\u001b[0m\n\u001b[1;32m     62\u001b[0m             \u001b[0;32mif\u001b[0m \u001b[0mextra_args\u001b[0m \u001b[0;34m<=\u001b[0m \u001b[0;36m0\u001b[0m\u001b[0;34m:\u001b[0m\u001b[0;34m\u001b[0m\u001b[0;34m\u001b[0m\u001b[0m\n\u001b[0;32m---> 63\u001b[0;31m                 \u001b[0;32mreturn\u001b[0m \u001b[0mf\u001b[0m\u001b[0;34m(\u001b[0m\u001b[0;34m*\u001b[0m\u001b[0margs\u001b[0m\u001b[0;34m,\u001b[0m \u001b[0;34m**\u001b[0m\u001b[0mkwargs\u001b[0m\u001b[0;34m)\u001b[0m\u001b[0;34m\u001b[0m\u001b[0;34m\u001b[0m\u001b[0m\n\u001b[0m\u001b[1;32m     64\u001b[0m \u001b[0;34m\u001b[0m\u001b[0m\n\u001b[1;32m     65\u001b[0m             \u001b[0;31m# extra_args > 0\u001b[0m\u001b[0;34m\u001b[0m\u001b[0;34m\u001b[0m\u001b[0;34m\u001b[0m\u001b[0m\n",
      "\u001b[0;32m~/opt/anaconda3/envs/keras/lib/python3.7/site-packages/sklearn/utils/validation.py\u001b[0m in \u001b[0;36mcheck_X_y\u001b[0;34m(X, y, accept_sparse, accept_large_sparse, dtype, order, copy, force_all_finite, ensure_2d, allow_nd, multi_output, ensure_min_samples, ensure_min_features, y_numeric, estimator)\u001b[0m\n\u001b[1;32m    879\u001b[0m     \u001b[0;32mif\u001b[0m \u001b[0mmulti_output\u001b[0m\u001b[0;34m:\u001b[0m\u001b[0;34m\u001b[0m\u001b[0;34m\u001b[0m\u001b[0m\n\u001b[1;32m    880\u001b[0m         y = check_array(y, accept_sparse='csr', force_all_finite=True,\n\u001b[0;32m--> 881\u001b[0;31m                         ensure_2d=False, dtype=None)\n\u001b[0m\u001b[1;32m    882\u001b[0m     \u001b[0;32melse\u001b[0m\u001b[0;34m:\u001b[0m\u001b[0;34m\u001b[0m\u001b[0;34m\u001b[0m\u001b[0m\n\u001b[1;32m    883\u001b[0m         \u001b[0my\u001b[0m \u001b[0;34m=\u001b[0m \u001b[0mcolumn_or_1d\u001b[0m\u001b[0;34m(\u001b[0m\u001b[0my\u001b[0m\u001b[0;34m,\u001b[0m \u001b[0mwarn\u001b[0m\u001b[0;34m=\u001b[0m\u001b[0;32mTrue\u001b[0m\u001b[0;34m)\u001b[0m\u001b[0;34m\u001b[0m\u001b[0;34m\u001b[0m\u001b[0m\n",
      "\u001b[0;32m~/opt/anaconda3/envs/keras/lib/python3.7/site-packages/sklearn/utils/validation.py\u001b[0m in \u001b[0;36minner_f\u001b[0;34m(*args, **kwargs)\u001b[0m\n\u001b[1;32m     61\u001b[0m             \u001b[0mextra_args\u001b[0m \u001b[0;34m=\u001b[0m \u001b[0mlen\u001b[0m\u001b[0;34m(\u001b[0m\u001b[0margs\u001b[0m\u001b[0;34m)\u001b[0m \u001b[0;34m-\u001b[0m \u001b[0mlen\u001b[0m\u001b[0;34m(\u001b[0m\u001b[0mall_args\u001b[0m\u001b[0;34m)\u001b[0m\u001b[0;34m\u001b[0m\u001b[0;34m\u001b[0m\u001b[0m\n\u001b[1;32m     62\u001b[0m             \u001b[0;32mif\u001b[0m \u001b[0mextra_args\u001b[0m \u001b[0;34m<=\u001b[0m \u001b[0;36m0\u001b[0m\u001b[0;34m:\u001b[0m\u001b[0;34m\u001b[0m\u001b[0;34m\u001b[0m\u001b[0m\n\u001b[0;32m---> 63\u001b[0;31m                 \u001b[0;32mreturn\u001b[0m \u001b[0mf\u001b[0m\u001b[0;34m(\u001b[0m\u001b[0;34m*\u001b[0m\u001b[0margs\u001b[0m\u001b[0;34m,\u001b[0m \u001b[0;34m**\u001b[0m\u001b[0mkwargs\u001b[0m\u001b[0;34m)\u001b[0m\u001b[0;34m\u001b[0m\u001b[0;34m\u001b[0m\u001b[0m\n\u001b[0m\u001b[1;32m     64\u001b[0m \u001b[0;34m\u001b[0m\u001b[0m\n\u001b[1;32m     65\u001b[0m             \u001b[0;31m# extra_args > 0\u001b[0m\u001b[0;34m\u001b[0m\u001b[0;34m\u001b[0m\u001b[0;34m\u001b[0m\u001b[0m\n",
      "\u001b[0;32m~/opt/anaconda3/envs/keras/lib/python3.7/site-packages/sklearn/utils/validation.py\u001b[0m in \u001b[0;36mcheck_array\u001b[0;34m(array, accept_sparse, accept_large_sparse, dtype, order, copy, force_all_finite, ensure_2d, allow_nd, ensure_min_samples, ensure_min_features, estimator)\u001b[0m\n\u001b[1;32m    719\u001b[0m         \u001b[0;32mif\u001b[0m \u001b[0mforce_all_finite\u001b[0m\u001b[0;34m:\u001b[0m\u001b[0;34m\u001b[0m\u001b[0;34m\u001b[0m\u001b[0m\n\u001b[1;32m    720\u001b[0m             _assert_all_finite(array,\n\u001b[0;32m--> 721\u001b[0;31m                                allow_nan=force_all_finite == 'allow-nan')\n\u001b[0m\u001b[1;32m    722\u001b[0m \u001b[0;34m\u001b[0m\u001b[0m\n\u001b[1;32m    723\u001b[0m     \u001b[0;32mif\u001b[0m \u001b[0mensure_min_samples\u001b[0m \u001b[0;34m>\u001b[0m \u001b[0;36m0\u001b[0m\u001b[0;34m:\u001b[0m\u001b[0;34m\u001b[0m\u001b[0;34m\u001b[0m\u001b[0m\n",
      "\u001b[0;32m~/opt/anaconda3/envs/keras/lib/python3.7/site-packages/sklearn/utils/validation.py\u001b[0m in \u001b[0;36m_assert_all_finite\u001b[0;34m(X, allow_nan, msg_dtype)\u001b[0m\n\u001b[1;32m    104\u001b[0m                     \u001b[0mmsg_err\u001b[0m\u001b[0;34m.\u001b[0m\u001b[0mformat\u001b[0m\u001b[0;34m\u001b[0m\u001b[0;34m\u001b[0m\u001b[0m\n\u001b[1;32m    105\u001b[0m                     (type_err,\n\u001b[0;32m--> 106\u001b[0;31m                      msg_dtype if msg_dtype is not None else X.dtype)\n\u001b[0m\u001b[1;32m    107\u001b[0m             )\n\u001b[1;32m    108\u001b[0m     \u001b[0;31m# for object dtype data, we only check for NaNs (GH-13254)\u001b[0m\u001b[0;34m\u001b[0m\u001b[0;34m\u001b[0m\u001b[0;34m\u001b[0m\u001b[0m\n",
      "\u001b[0;31mValueError\u001b[0m: Input contains NaN, infinity or a value too large for dtype('float64')."
     ]
    }
   ],
   "source": [
    "array = ['Number of Fluorines','Number of Carbons','Contains N','Contains O','Contains S']\n",
    "for a in array:\n",
    "# let's only use the top two features from v2ref74 model, MONOISOTOPIC_MASS and Number of Fluorines\n",
    "    b='MONOISOTOPIC_MASS'\n",
    "    #print(df[a].dtypes,df[b].dtypes)\n",
    "    df[a]=df[a].values.astype(int)\n",
    "    #print(df[a].dtypes,df[b].dtypes)\n",
    "    x=df[[a,b]]\n",
    "    #print(x)\n",
    "    # Create an instance of Neighbours Classifier and fit the data.\n",
    "    clf = neighbors.KNeighborsClassifier(n_neighbors=15, weights='uniform')\n",
    "    clf.fit(x, y);\n",
    "    # Plot the decision boundary\n",
    "    xx, yy = np.meshgrid(np.arange(x.iloc[:, 0].min(), x.iloc[:, 0].max()+0.2, 0.2),\n",
    "                         np.arange(x.iloc[:, 1].min(), x.iloc[:, 1].max()+0.2, 0.2))\n",
    "    z = clf.predict(np.c_[xx.ravel(), yy.ravel()])\n",
    "    z = z.reshape(xx.shape)\n",
    "    plt.figure()\n",
    "    plt.pcolormesh(xx, yy, z, cmap=ListedColormap(['#FFAAAA', '#AAFFAA', '#AAAAFF']))\n",
    "    plt.scatter(x.iloc[:, 0], x.iloc[:, 1], c=y, edgecolor='k', s=20, cmap=ListedColormap(['#FF0000', '#00FF00', '#0000FF']))\n",
    "    plt.title(b+ ' vs '+a)\n",
    "    plt.xlabel(a)\n",
    "    plt.ylabel(b)\n",
    "    plt.show()"
   ]
  },
  {
   "cell_type": "code",
   "execution_count": null,
   "id": "a613d5ef-cf6f-4fe4-bd1a-140d1fb045ce",
   "metadata": {},
   "outputs": [],
   "source": []
  }
 ],
 "metadata": {
  "kernelspec": {
   "display_name": "Python 3 (ipykernel)",
   "language": "python",
   "name": "python3"
  },
  "language_info": {
   "codemirror_mode": {
    "name": "ipython",
    "version": 3
   },
   "file_extension": ".py",
   "mimetype": "text/x-python",
   "name": "python",
   "nbconvert_exporter": "python",
   "pygments_lexer": "ipython3",
   "version": "3.7.11"
  }
 },
 "nbformat": 4,
 "nbformat_minor": 5
}
